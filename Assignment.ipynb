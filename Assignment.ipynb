{
 "cells": [
  {
   "cell_type": "code",
   "execution_count": 256,
   "id": "a5c32e4c",
   "metadata": {},
   "outputs": [],
   "source": [
    "import pandas as pd\n",
    "import numpy as np\n",
    "from datetime import datetime"
   ]
  },
  {
   "cell_type": "markdown",
   "id": "d017412a",
   "metadata": {},
   "source": [
    "### Assignment 1"
   ]
  },
  {
   "cell_type": "code",
   "execution_count": 280,
   "id": "11b875b4",
   "metadata": {},
   "outputs": [],
   "source": [
    "def main(input_array):\n",
    "    df = pd.DataFrame(input_array)\n",
    "    zero_to_nan = df.replace(0, np.nan) # replace 0 with Null\n",
    "    replaced_zero = zero_to_nan.fillna(zero_to_nan.mean(skipna=True)) # replace Null with mean of non zero in column\n",
    "    normalize_output = (replaced_zero - replaced_zero.mean()) / (replaced_zero.std()) # normalize array\n",
    "    \n",
    "    return normalize_output.to_numpy()"
   ]
  },
  {
   "cell_type": "code",
   "execution_count": 281,
   "id": "5dff6e01",
   "metadata": {},
   "outputs": [],
   "source": [
    "# test cases and expected result\n",
    "test_case = {\n",
    "    1: np.array([[12,32,342,0], [131,3,0,7], [0,43,0,0], [1,3,2,1]]),\n",
    "    2: np.array([[1, 2, 0], [0, 1, 1], [5, 6, 5]])\n",
    "}\n",
    "\n",
    "\n",
    "answer = {1: np.array([[-0.611607, 0.575458, 1.22475, 0.], [ 1.41009, -0.844820,  0. , 1.224775], \n",
    "                 [ 0.,  1.114184,  0,  0], [-0.79845, -0.84482, -1.22474, -1.22478]]),\n",
    "          \n",
    "          2: np.array([[-1. , -0.37798,  0 ], [ 0 , -0.75593, -1 ], [ 1 ,  1.13389,  1]])\n",
    "         }\n"
   ]
  },
  {
   "cell_type": "code",
   "execution_count": 282,
   "id": "ff072804",
   "metadata": {
    "scrolled": true
   },
   "outputs": [
    {
     "name": "stdout",
     "output_type": "stream",
     "text": [
      "Result\n",
      "------\n",
      "\n",
      "Test case 1 : Pass\n",
      "Test case 2 : Pass\n",
      "\n",
      "CPU times: total: 46.9 ms\n",
      "Wall time: 27.9 ms\n"
     ]
    }
   ],
   "source": [
    "%%time\n",
    "\n",
    "print(\"Result\")\n",
    "print(\"------\\n\")\n",
    "\n",
    "\n",
    "for i in test_case:\n",
    "    start = datetime.now() # timer start\n",
    "    result = main(test_case[i])\n",
    "    end =  datetime.now() # timer end\n",
    "\n",
    "    if not isinstance(result, np.ndarray):\n",
    "        raise ValueError(\"Invalid output format\")\n",
    "        \n",
    "    if not result.dtype == float:\n",
    "        raise ValueError(\"Invalid datatype\")\n",
    "        \n",
    "    test_res = list()\n",
    "    for idx, element in enumerate(result):\n",
    "        res = sum((np.abs(answer[i][idx]-element)))\n",
    "        eval_res = res < 10e-5 # evaluate each element in array\n",
    "        test_res.append(eval_res)\n",
    "    \n",
    "    \n",
    "    time_taken = end - start\n",
    "    if all(test_res) and time_taken.seconds < 4:\n",
    "        print(\"Test case {} : Pass\".format(i))\n",
    "    else:\n",
    "        print(\"Test case {} : Fail\".format(i))\n",
    "    \n",
    "\n",
    "        \n",
    "print(\"\")"
   ]
  },
  {
   "cell_type": "markdown",
   "id": "460755f2",
   "metadata": {},
   "source": [
    "### Assignment 2"
   ]
  },
  {
   "cell_type": "code",
   "execution_count": 287,
   "id": "e4b222d3",
   "metadata": {},
   "outputs": [],
   "source": [
    "input_json = [\n",
    "    {\n",
    "        \"id\": \"1\",\n",
    "        \"agent\": \"Radulf Katlego\",\n",
    "        \"unit\": \"#3\",\n",
    "        \"description\": \"This luxurious studio apartment is in the heart of downtown.\",\n",
    "        \"num_bedrooms\": 1\n",
    "    },\n",
    "    {\n",
    "        \"id\": \"2\",\n",
    "        \"agent\": \"Kelemen Konrad\",\n",
    "        \"unit\": \"#36\",\n",
    "        \"description\": \"We have a 1-bedroom available on the third floor.\",\n",
    "        \"num_bedrooms\": 1\n",
    "    },\n",
    "    {\n",
    "        \"id\": \"3\",\n",
    "        \"agent\": \"Ton Jett\",\n",
    "        \"unit\": \"#12\",\n",
    "        \"description\": \"Beautiful 1-bedroom apartment with nearby yoga studio.\",\n",
    "        \"num_bedrooms\": 1\n",
    "    },\n",
    "    {\n",
    "        \"id\": \"4\",\n",
    "        \"agent\": \"Fishel Salman\",\n",
    "        \"unit\": \"#13\",\n",
    "        \"description\": \"Beautiful house beside a park\",\n",
    "        \"num_bedrooms\": 1\n",
    "    }\n",
    "    \n",
    "]\n",
    "\n",
    "\n",
    "answer = [0, 1, 1, 1]"
   ]
  },
  {
   "cell_type": "code",
   "execution_count": 288,
   "id": "bd12d6e6",
   "metadata": {},
   "outputs": [],
   "source": [
    "def main(input_json):   \n",
    "    invalid_if = [\"yoga\", \"dance\", \"art\"] # prospect is invalid if precided by this words\n",
    "    result = list() # initializing a list\n",
    "    \n",
    "    for item in input_json:\n",
    "        sentence_token = item[\"description\"].lower().split(\" \")\n",
    "        for word in sentence_token:\n",
    "            if \"studio\" in word and sentence_token[sentence_token.index(word) - 1] not in invalid_if: # propect if not preceded by invalid string\n",
    "                item[\"num_bedrooms\"] = 0\n",
    "            elif \"1-bedroom\" in word and sentence_token[sentence_token.index(word) - 1] not in invalid_if: # propect if not preceded by invalid string\n",
    "                item[\"num_bedrooms\"] = 1\n",
    "        print()\n",
    "        result.append(item[\"num_bedrooms\"])\n",
    "\n",
    "    return np.array(result)\n",
    "    \n",
    "    \n"
   ]
  },
  {
   "cell_type": "code",
   "execution_count": 289,
   "id": "467bf938",
   "metadata": {},
   "outputs": [
    {
     "name": "stdout",
     "output_type": "stream",
     "text": [
      "\n",
      "\n",
      "\n",
      "\n",
      "Test case 0 : Pass\n",
      "Test case 1 : Pass\n",
      "Test case 2 : Pass\n",
      "Test case 3 : Pass\n"
     ]
    }
   ],
   "source": [
    "start = datetime.now() # timer start\n",
    "result = main(input_json)\n",
    "end = datetime.now() # timer end\n",
    "\n",
    "time_taken = end - start\n",
    "\n",
    "if not isinstance(result, np.ndarray):\n",
    "    raise ValueError(\"Invalid output format\")\n",
    "        \n",
    "if not result.dtype == int:\n",
    "    raise ValueError(\"Invalid datatype\")\n",
    "        \n",
    "for i, (flag, ans) in enumerate(zip(result, answer)):\n",
    "    if flag == ans and time_taken.seconds < 4:\n",
    "        print(\"Test case {} : Pass\".format(i))\n",
    "    else:\n",
    "        print(\"Test case {} : Fail\".format(i))"
   ]
  }
 ],
 "metadata": {
  "kernelspec": {
   "display_name": "Python 3 (ipykernel)",
   "language": "python",
   "name": "python3"
  },
  "language_info": {
   "codemirror_mode": {
    "name": "ipython",
    "version": 3
   },
   "file_extension": ".py",
   "mimetype": "text/x-python",
   "name": "python",
   "nbconvert_exporter": "python",
   "pygments_lexer": "ipython3",
   "version": "3.9.2"
  }
 },
 "nbformat": 4,
 "nbformat_minor": 5
}
